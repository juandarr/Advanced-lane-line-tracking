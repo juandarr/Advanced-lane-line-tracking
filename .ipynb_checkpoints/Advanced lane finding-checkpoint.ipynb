{
 "cells": [
  {
   "cell_type": "markdown",
   "metadata": {},
   "source": [
    "1. Camera Calibration\n",
    "\n",
    "Our initial goal is to obtain a transformation matrix to map a 3D object to a 2D image and a set of coefficients representative of the distortion due to the optics and setting of the image capturing device\n"
   ]
  },
  {
   "cell_type": "code",
   "execution_count": null,
   "metadata": {
    "collapsed": true
   },
   "outputs": [],
   "source": [
    "import cv2 \n",
    "import numpy as np\n",
    "import matplotlib.pyplot as plt\n",
    "import matplotlib.image as mpimg\n",
    "\n",
    "img = mpimg.imread('camera_cal/calibration1.jpg')\n",
    "\n",
    "nx = 9 # number of inside corners in x\n",
    "ny = 6 # number of inside corners in y\n",
    "\n",
    "def corners_unwarp(img, nx, ny , mtx, dist):\n",
    "    #1. Undistort using mtx and dist\n",
    "    undist = cv2.undistort(img, mtx, dist, None, mtx)\n",
    "    #2. Convert to grayscale\n",
    "    gray = cv2.cvtColor(undist, cv2.RGB2GRAY)\n",
    "    #3. Find the chess corners\n",
    "    ret, corners = cv2.findChessboardCorners(gray,(nx,ny), None)\n",
    "    \n",
    "    offset = 80 # side length of each square in the chessboard image\n",
    "    M = None\n",
    "    warped = None\n",
    "    \n",
    "    if ret == True:\n",
    "        #a. Draw corners\n",
    "        undist = cv2.drawChessboardCorners(undist, (nx,ny), corners, ret)\n",
    "        \n",
    "        # x and y image sizes\n",
    "        img_size = (undist.shape[1], undist.shape[0])\n",
    "        \n",
    "        #b. Define four source points src=np.float32([[,],[,],[,],[,]])\n",
    "        src = np.float32([corners[0][0], corners[8,0], corners[45][0], corners[53][0]])\n",
    "        \n",
    "        #c. Define four destination points dst=np.float32([[,],[,],[,],[,]])\n",
    "        dst = np.float32([[offset,offset],[image_size[0],offset],[offset,image_size[1]],[image_size[0]-offset,image_size[1]-offset]])\n",
    "        \n",
    "        #d. Get perspective transform M using the source and destination points\n",
    "        M = cv2.getPerspectiveTransform(src, dst)\n",
    "        \n",
    "        #e. Warp the image captured by the camera using this transform to get an accurate depiction of the 2D image\n",
    "        warped = cv2.warpPerspective(undist, M,  image_size, flags=cv2.INTER_LINEAR)\n",
    "        \n",
    "    return warped, M\n",
    "\n",
    "top_down, perspective_M = corners_unwarp(img, nx, ny, mtx, dist)\n",
    "f, (ax1, ax2) = plt.subplots(1,2, figsize=(24,9))\n",
    "f.tight_layout()\n",
    "ax1.imshow(img)\n",
    "ax1.set_title('Original image', fontsize=50)\n",
    "ax2.imshow(top_down)\n",
    "ax2.set_title('Undistorted and warped iamge', fontsize= 50)\n",
    "plt.subplots_adjust(left = 0., right = 1, top=0.9, botton = 0.)\n",
    "        \n",
    "    "
   ]
  }
 ],
 "metadata": {
  "kernelspec": {
   "display_name": "Python p1-lane",
   "language": "python",
   "name": "p1-lane"
  },
  "language_info": {
   "codemirror_mode": {
    "name": "ipython",
    "version": 3
   },
   "file_extension": ".py",
   "mimetype": "text/x-python",
   "name": "python",
   "nbconvert_exporter": "python",
   "pygments_lexer": "ipython3",
   "version": "3.7.1"
  }
 },
 "nbformat": 4,
 "nbformat_minor": 2
}
